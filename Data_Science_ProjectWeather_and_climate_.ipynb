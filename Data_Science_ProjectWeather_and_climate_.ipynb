{
  "nbformat": 4,
  "nbformat_minor": 0,
  "metadata": {
    "colab": {
      "provenance": []
    },
    "kernelspec": {
      "name": "python3",
      "display_name": "Python 3"
    },
    "language_info": {
      "name": "python"
    }
  },
  "cells": [
    {
      "cell_type": "markdown",
      "source": [
        "Weather and Climate Project\n",
        "Lakshay-102065008\n",
        "\n"
      ],
      "metadata": {
        "id": "6GI8tFIQgkbl"
      }
    },
    {
      "cell_type": "code",
      "execution_count": null,
      "metadata": {
        "id": "sJPJkwM01xGz"
      },
      "outputs": [],
      "source": [
        "import pandas  as pd\n",
        "import numpy as np\n",
        "from matplotlib import pyplot as plt\n",
        "import matplotlib\n"
      ]
    },
    {
      "cell_type": "code",
      "source": [
        "df1=pd.read_csv(\"1. Weather Data.csv\")\n",
        "df1\n",
        "\n"
      ],
      "metadata": {
        "colab": {
          "base_uri": "https://localhost:8080/",
          "height": 201
        },
        "id": "Np-ierBS5BcH",
        "outputId": "6d821ac5-f813-4e59-a3c6-65d653a84a5a"
      },
      "execution_count": null,
      "outputs": [
        {
          "output_type": "error",
          "ename": "NameError",
          "evalue": "ignored",
          "traceback": [
            "\u001b[0;31m---------------------------------------------------------------------------\u001b[0m",
            "\u001b[0;31mNameError\u001b[0m                                 Traceback (most recent call last)",
            "\u001b[0;32m<ipython-input-1-9442b345e342>\u001b[0m in \u001b[0;36m<module>\u001b[0;34m\u001b[0m\n\u001b[0;32m----> 1\u001b[0;31m \u001b[0mdf1\u001b[0m\u001b[0;34m=\u001b[0m\u001b[0mpd\u001b[0m\u001b[0;34m.\u001b[0m\u001b[0mread_csv\u001b[0m\u001b[0;34m(\u001b[0m\u001b[0;34m\"1. Weather Data.csv\"\u001b[0m\u001b[0;34m)\u001b[0m\u001b[0;34m\u001b[0m\u001b[0;34m\u001b[0m\u001b[0m\n\u001b[0m\u001b[1;32m      2\u001b[0m \u001b[0mdf1\u001b[0m\u001b[0;34m\u001b[0m\u001b[0;34m\u001b[0m\u001b[0m\n\u001b[1;32m      3\u001b[0m \u001b[0;34m\u001b[0m\u001b[0m\n",
            "\u001b[0;31mNameError\u001b[0m: name 'pd' is not defined"
          ]
        }
      ]
    },
    {
      "cell_type": "code",
      "source": [
        "df1.shape\n"
      ],
      "metadata": {
        "colab": {
          "base_uri": "https://localhost:8080/"
        },
        "id": "dOnNpkYO5qaX",
        "outputId": "b1a38552-cfdc-4450-a849-0a385bc085db"
      },
      "execution_count": null,
      "outputs": [
        {
          "output_type": "execute_result",
          "data": {
            "text/plain": [
              "(8784, 8)"
            ]
          },
          "metadata": {},
          "execution_count": 26
        }
      ]
    },
    {
      "cell_type": "code",
      "source": [
        "df1.head()"
      ],
      "metadata": {
        "colab": {
          "base_uri": "https://localhost:8080/",
          "height": 204
        },
        "id": "PesS2ZT65vzf",
        "outputId": "424115e0-ac01-47e3-f6df-44e5777a71c0"
      },
      "execution_count": null,
      "outputs": [
        {
          "output_type": "execute_result",
          "data": {
            "text/plain": [
              "       Date/Time  Temp_C  Dew Point Temp_C  Rel Hum_%  Wind Speed_km/h  \\\n",
              "0  1/1/2012 0:00    -1.8              -3.9         86                4   \n",
              "1  1/1/2012 1:00    -1.8              -3.7         87                4   \n",
              "2  1/1/2012 2:00    -1.8              -3.4         89                7   \n",
              "3  1/1/2012 3:00    -1.5              -3.2         88                6   \n",
              "4  1/1/2012 4:00    -1.5              -3.3         88                7   \n",
              "\n",
              "   Visibility_km  Press_kPa               Weather  \n",
              "0            8.0     101.24                   Fog  \n",
              "1            8.0     101.24                   Fog  \n",
              "2            4.0     101.26  Freezing Drizzle,Fog  \n",
              "3            4.0     101.27  Freezing Drizzle,Fog  \n",
              "4            4.8     101.23                   Fog  "
            ],
            "text/html": [
              "\n",
              "  <div id=\"df-1a58835f-83a6-4690-97ff-18d7a5099e2c\">\n",
              "    <div class=\"colab-df-container\">\n",
              "      <div>\n",
              "<style scoped>\n",
              "    .dataframe tbody tr th:only-of-type {\n",
              "        vertical-align: middle;\n",
              "    }\n",
              "\n",
              "    .dataframe tbody tr th {\n",
              "        vertical-align: top;\n",
              "    }\n",
              "\n",
              "    .dataframe thead th {\n",
              "        text-align: right;\n",
              "    }\n",
              "</style>\n",
              "<table border=\"1\" class=\"dataframe\">\n",
              "  <thead>\n",
              "    <tr style=\"text-align: right;\">\n",
              "      <th></th>\n",
              "      <th>Date/Time</th>\n",
              "      <th>Temp_C</th>\n",
              "      <th>Dew Point Temp_C</th>\n",
              "      <th>Rel Hum_%</th>\n",
              "      <th>Wind Speed_km/h</th>\n",
              "      <th>Visibility_km</th>\n",
              "      <th>Press_kPa</th>\n",
              "      <th>Weather</th>\n",
              "    </tr>\n",
              "  </thead>\n",
              "  <tbody>\n",
              "    <tr>\n",
              "      <th>0</th>\n",
              "      <td>1/1/2012 0:00</td>\n",
              "      <td>-1.8</td>\n",
              "      <td>-3.9</td>\n",
              "      <td>86</td>\n",
              "      <td>4</td>\n",
              "      <td>8.0</td>\n",
              "      <td>101.24</td>\n",
              "      <td>Fog</td>\n",
              "    </tr>\n",
              "    <tr>\n",
              "      <th>1</th>\n",
              "      <td>1/1/2012 1:00</td>\n",
              "      <td>-1.8</td>\n",
              "      <td>-3.7</td>\n",
              "      <td>87</td>\n",
              "      <td>4</td>\n",
              "      <td>8.0</td>\n",
              "      <td>101.24</td>\n",
              "      <td>Fog</td>\n",
              "    </tr>\n",
              "    <tr>\n",
              "      <th>2</th>\n",
              "      <td>1/1/2012 2:00</td>\n",
              "      <td>-1.8</td>\n",
              "      <td>-3.4</td>\n",
              "      <td>89</td>\n",
              "      <td>7</td>\n",
              "      <td>4.0</td>\n",
              "      <td>101.26</td>\n",
              "      <td>Freezing Drizzle,Fog</td>\n",
              "    </tr>\n",
              "    <tr>\n",
              "      <th>3</th>\n",
              "      <td>1/1/2012 3:00</td>\n",
              "      <td>-1.5</td>\n",
              "      <td>-3.2</td>\n",
              "      <td>88</td>\n",
              "      <td>6</td>\n",
              "      <td>4.0</td>\n",
              "      <td>101.27</td>\n",
              "      <td>Freezing Drizzle,Fog</td>\n",
              "    </tr>\n",
              "    <tr>\n",
              "      <th>4</th>\n",
              "      <td>1/1/2012 4:00</td>\n",
              "      <td>-1.5</td>\n",
              "      <td>-3.3</td>\n",
              "      <td>88</td>\n",
              "      <td>7</td>\n",
              "      <td>4.8</td>\n",
              "      <td>101.23</td>\n",
              "      <td>Fog</td>\n",
              "    </tr>\n",
              "  </tbody>\n",
              "</table>\n",
              "</div>\n",
              "      <button class=\"colab-df-convert\" onclick=\"convertToInteractive('df-1a58835f-83a6-4690-97ff-18d7a5099e2c')\"\n",
              "              title=\"Convert this dataframe to an interactive table.\"\n",
              "              style=\"display:none;\">\n",
              "        \n",
              "  <svg xmlns=\"http://www.w3.org/2000/svg\" height=\"24px\"viewBox=\"0 0 24 24\"\n",
              "       width=\"24px\">\n",
              "    <path d=\"M0 0h24v24H0V0z\" fill=\"none\"/>\n",
              "    <path d=\"M18.56 5.44l.94 2.06.94-2.06 2.06-.94-2.06-.94-.94-2.06-.94 2.06-2.06.94zm-11 1L8.5 8.5l.94-2.06 2.06-.94-2.06-.94L8.5 2.5l-.94 2.06-2.06.94zm10 10l.94 2.06.94-2.06 2.06-.94-2.06-.94-.94-2.06-.94 2.06-2.06.94z\"/><path d=\"M17.41 7.96l-1.37-1.37c-.4-.4-.92-.59-1.43-.59-.52 0-1.04.2-1.43.59L10.3 9.45l-7.72 7.72c-.78.78-.78 2.05 0 2.83L4 21.41c.39.39.9.59 1.41.59.51 0 1.02-.2 1.41-.59l7.78-7.78 2.81-2.81c.8-.78.8-2.07 0-2.86zM5.41 20L4 18.59l7.72-7.72 1.47 1.35L5.41 20z\"/>\n",
              "  </svg>\n",
              "      </button>\n",
              "      \n",
              "  <style>\n",
              "    .colab-df-container {\n",
              "      display:flex;\n",
              "      flex-wrap:wrap;\n",
              "      gap: 12px;\n",
              "    }\n",
              "\n",
              "    .colab-df-convert {\n",
              "      background-color: #E8F0FE;\n",
              "      border: none;\n",
              "      border-radius: 50%;\n",
              "      cursor: pointer;\n",
              "      display: none;\n",
              "      fill: #1967D2;\n",
              "      height: 32px;\n",
              "      padding: 0 0 0 0;\n",
              "      width: 32px;\n",
              "    }\n",
              "\n",
              "    .colab-df-convert:hover {\n",
              "      background-color: #E2EBFA;\n",
              "      box-shadow: 0px 1px 2px rgba(60, 64, 67, 0.3), 0px 1px 3px 1px rgba(60, 64, 67, 0.15);\n",
              "      fill: #174EA6;\n",
              "    }\n",
              "\n",
              "    [theme=dark] .colab-df-convert {\n",
              "      background-color: #3B4455;\n",
              "      fill: #D2E3FC;\n",
              "    }\n",
              "\n",
              "    [theme=dark] .colab-df-convert:hover {\n",
              "      background-color: #434B5C;\n",
              "      box-shadow: 0px 1px 3px 1px rgba(0, 0, 0, 0.15);\n",
              "      filter: drop-shadow(0px 1px 2px rgba(0, 0, 0, 0.3));\n",
              "      fill: #FFFFFF;\n",
              "    }\n",
              "  </style>\n",
              "\n",
              "      <script>\n",
              "        const buttonEl =\n",
              "          document.querySelector('#df-1a58835f-83a6-4690-97ff-18d7a5099e2c button.colab-df-convert');\n",
              "        buttonEl.style.display =\n",
              "          google.colab.kernel.accessAllowed ? 'block' : 'none';\n",
              "\n",
              "        async function convertToInteractive(key) {\n",
              "          const element = document.querySelector('#df-1a58835f-83a6-4690-97ff-18d7a5099e2c');\n",
              "          const dataTable =\n",
              "            await google.colab.kernel.invokeFunction('convertToInteractive',\n",
              "                                                     [key], {});\n",
              "          if (!dataTable) return;\n",
              "\n",
              "          const docLinkHtml = 'Like what you see? Visit the ' +\n",
              "            '<a target=\"_blank\" href=https://colab.research.google.com/notebooks/data_table.ipynb>data table notebook</a>'\n",
              "            + ' to learn more about interactive tables.';\n",
              "          element.innerHTML = '';\n",
              "          dataTable['output_type'] = 'display_data';\n",
              "          await google.colab.output.renderOutput(dataTable, element);\n",
              "          const docLink = document.createElement('div');\n",
              "          docLink.innerHTML = docLinkHtml;\n",
              "          element.appendChild(docLink);\n",
              "        }\n",
              "      </script>\n",
              "    </div>\n",
              "  </div>\n",
              "  "
            ]
          },
          "metadata": {},
          "execution_count": 27
        }
      ]
    },
    {
      "cell_type": "code",
      "source": [
        "df1.index"
      ],
      "metadata": {
        "colab": {
          "base_uri": "https://localhost:8080/"
        },
        "id": "pJFB-S8m9KR7",
        "outputId": "f6efba24-2312-463a-9f5c-379a6a9632ce"
      },
      "execution_count": null,
      "outputs": [
        {
          "output_type": "execute_result",
          "data": {
            "text/plain": [
              "RangeIndex(start=0, stop=8784, step=1)"
            ]
          },
          "metadata": {},
          "execution_count": 28
        }
      ]
    },
    {
      "cell_type": "code",
      "source": [
        "df1.columns"
      ],
      "metadata": {
        "colab": {
          "base_uri": "https://localhost:8080/"
        },
        "id": "OKf_f01l9ScZ",
        "outputId": "e539cc74-4159-4983-b7dc-d74239505d9e"
      },
      "execution_count": null,
      "outputs": [
        {
          "output_type": "execute_result",
          "data": {
            "text/plain": [
              "Index(['Date/Time', 'Temp_C', 'Dew Point Temp_C', 'Rel Hum_%',\n",
              "       'Wind Speed_km/h', 'Visibility_km', 'Press_kPa', 'Weather'],\n",
              "      dtype='object')"
            ]
          },
          "metadata": {},
          "execution_count": 29
        }
      ]
    },
    {
      "cell_type": "code",
      "source": [
        "df1.dtypes"
      ],
      "metadata": {
        "colab": {
          "base_uri": "https://localhost:8080/"
        },
        "id": "OUncDS869cdu",
        "outputId": "b8d3153a-acbe-4f77-9015-54dc639e34f9"
      },
      "execution_count": null,
      "outputs": [
        {
          "output_type": "execute_result",
          "data": {
            "text/plain": [
              "Date/Time            object\n",
              "Temp_C              float64\n",
              "Dew Point Temp_C    float64\n",
              "Rel Hum_%             int64\n",
              "Wind Speed_km/h       int64\n",
              "Visibility_km       float64\n",
              "Press_kPa           float64\n",
              "Weather              object\n",
              "dtype: object"
            ]
          },
          "metadata": {},
          "execution_count": 30
        }
      ]
    },
    {
      "cell_type": "code",
      "source": [
        "df1['Weather'].unique()"
      ],
      "metadata": {
        "colab": {
          "base_uri": "https://localhost:8080/"
        },
        "id": "3NevRP4S9gHd",
        "outputId": "11cab26a-39b7-4ae1-ac4e-4f637e23e939"
      },
      "execution_count": null,
      "outputs": [
        {
          "output_type": "execute_result",
          "data": {
            "text/plain": [
              "array(['Fog', 'Freezing Drizzle,Fog', 'Mostly Cloudy', 'Cloudy', 'Rain',\n",
              "       'Rain Showers', 'Mainly Clear', 'Snow Showers', 'Snow', 'Clear',\n",
              "       'Freezing Rain,Fog', 'Freezing Rain', 'Freezing Drizzle',\n",
              "       'Rain,Snow', 'Moderate Snow', 'Freezing Drizzle,Snow',\n",
              "       'Freezing Rain,Snow Grains', 'Snow,Blowing Snow', 'Freezing Fog',\n",
              "       'Haze', 'Rain,Fog', 'Drizzle,Fog', 'Drizzle',\n",
              "       'Freezing Drizzle,Haze', 'Freezing Rain,Haze', 'Snow,Haze',\n",
              "       'Snow,Fog', 'Snow,Ice Pellets', 'Rain,Haze', 'Thunderstorms,Rain',\n",
              "       'Thunderstorms,Rain Showers', 'Thunderstorms,Heavy Rain Showers',\n",
              "       'Thunderstorms,Rain Showers,Fog', 'Thunderstorms',\n",
              "       'Thunderstorms,Rain,Fog',\n",
              "       'Thunderstorms,Moderate Rain Showers,Fog', 'Rain Showers,Fog',\n",
              "       'Rain Showers,Snow Showers', 'Snow Pellets', 'Rain,Snow,Fog',\n",
              "       'Moderate Rain,Fog', 'Freezing Rain,Ice Pellets,Fog',\n",
              "       'Drizzle,Ice Pellets,Fog', 'Drizzle,Snow', 'Rain,Ice Pellets',\n",
              "       'Drizzle,Snow,Fog', 'Rain,Snow Grains', 'Rain,Snow,Ice Pellets',\n",
              "       'Snow Showers,Fog', 'Moderate Snow,Blowing Snow'], dtype=object)"
            ]
          },
          "metadata": {},
          "execution_count": 31
        }
      ]
    },
    {
      "cell_type": "code",
      "source": [
        "df1.nunique()"
      ],
      "metadata": {
        "colab": {
          "base_uri": "https://localhost:8080/"
        },
        "id": "0dgk679M9zFd",
        "outputId": "eadb42a0-6fa9-444d-b169-3c22bea23503"
      },
      "execution_count": null,
      "outputs": [
        {
          "output_type": "execute_result",
          "data": {
            "text/plain": [
              "Date/Time           8784\n",
              "Temp_C               533\n",
              "Dew Point Temp_C     489\n",
              "Rel Hum_%             83\n",
              "Wind Speed_km/h       34\n",
              "Visibility_km         24\n",
              "Press_kPa            518\n",
              "Weather               50\n",
              "dtype: int64"
            ]
          },
          "metadata": {},
          "execution_count": 32
        }
      ]
    },
    {
      "cell_type": "code",
      "source": [
        "df1.count()"
      ],
      "metadata": {
        "colab": {
          "base_uri": "https://localhost:8080/"
        },
        "id": "gener_uJ96LC",
        "outputId": "216c4637-967e-43a8-afae-c968ed761628"
      },
      "execution_count": null,
      "outputs": [
        {
          "output_type": "execute_result",
          "data": {
            "text/plain": [
              "Date/Time           8784\n",
              "Temp_C              8784\n",
              "Dew Point Temp_C    8784\n",
              "Rel Hum_%           8784\n",
              "Wind Speed_km/h     8784\n",
              "Visibility_km       8784\n",
              "Press_kPa           8784\n",
              "Weather             8784\n",
              "dtype: int64"
            ]
          },
          "metadata": {},
          "execution_count": 33
        }
      ]
    },
    {
      "cell_type": "code",
      "source": [
        "df1['Weather'].value_counts()"
      ],
      "metadata": {
        "colab": {
          "base_uri": "https://localhost:8080/"
        },
        "id": "NX9kS5Pb-HOd",
        "outputId": "8c85b03e-3c4d-4f21-d8d4-ddfa08a2d893"
      },
      "execution_count": null,
      "outputs": [
        {
          "output_type": "execute_result",
          "data": {
            "text/plain": [
              "Mainly Clear                               2106\n",
              "Mostly Cloudy                              2069\n",
              "Cloudy                                     1728\n",
              "Clear                                      1326\n",
              "Snow                                        390\n",
              "Rain                                        306\n",
              "Rain Showers                                188\n",
              "Fog                                         150\n",
              "Rain,Fog                                    116\n",
              "Drizzle,Fog                                  80\n",
              "Snow Showers                                 60\n",
              "Drizzle                                      41\n",
              "Snow,Fog                                     37\n",
              "Snow,Blowing Snow                            19\n",
              "Rain,Snow                                    18\n",
              "Thunderstorms,Rain Showers                   16\n",
              "Haze                                         16\n",
              "Drizzle,Snow,Fog                             15\n",
              "Freezing Rain                                14\n",
              "Freezing Drizzle,Snow                        11\n",
              "Freezing Drizzle                              7\n",
              "Snow,Ice Pellets                              6\n",
              "Freezing Drizzle,Fog                          6\n",
              "Snow,Haze                                     5\n",
              "Freezing Fog                                  4\n",
              "Snow Showers,Fog                              4\n",
              "Moderate Snow                                 4\n",
              "Rain,Snow,Ice Pellets                         4\n",
              "Freezing Rain,Fog                             4\n",
              "Freezing Drizzle,Haze                         3\n",
              "Rain,Haze                                     3\n",
              "Thunderstorms,Rain                            3\n",
              "Thunderstorms,Rain Showers,Fog                3\n",
              "Freezing Rain,Haze                            2\n",
              "Drizzle,Snow                                  2\n",
              "Rain Showers,Snow Showers                     2\n",
              "Thunderstorms                                 2\n",
              "Moderate Snow,Blowing Snow                    2\n",
              "Rain Showers,Fog                              1\n",
              "Thunderstorms,Moderate Rain Showers,Fog       1\n",
              "Snow Pellets                                  1\n",
              "Rain,Snow,Fog                                 1\n",
              "Moderate Rain,Fog                             1\n",
              "Freezing Rain,Ice Pellets,Fog                 1\n",
              "Drizzle,Ice Pellets,Fog                       1\n",
              "Thunderstorms,Rain,Fog                        1\n",
              "Rain,Ice Pellets                              1\n",
              "Rain,Snow Grains                              1\n",
              "Thunderstorms,Heavy Rain Showers              1\n",
              "Freezing Rain,Snow Grains                     1\n",
              "Name: Weather, dtype: int64"
            ]
          },
          "metadata": {},
          "execution_count": 34
        }
      ]
    },
    {
      "cell_type": "code",
      "source": [
        "df1.info()"
      ],
      "metadata": {
        "colab": {
          "base_uri": "https://localhost:8080/"
        },
        "id": "EuIBsiPB-Syk",
        "outputId": "60440a1c-9b55-450b-f391-6b7eee256718"
      },
      "execution_count": null,
      "outputs": [
        {
          "output_type": "stream",
          "name": "stdout",
          "text": [
            "<class 'pandas.core.frame.DataFrame'>\n",
            "RangeIndex: 8784 entries, 0 to 8783\n",
            "Data columns (total 8 columns):\n",
            " #   Column            Non-Null Count  Dtype  \n",
            "---  ------            --------------  -----  \n",
            " 0   Date/Time         8784 non-null   object \n",
            " 1   Temp_C            8784 non-null   float64\n",
            " 2   Dew Point Temp_C  8784 non-null   float64\n",
            " 3   Rel Hum_%         8784 non-null   int64  \n",
            " 4   Wind Speed_km/h   8784 non-null   int64  \n",
            " 5   Visibility_km     8784 non-null   float64\n",
            " 6   Press_kPa         8784 non-null   float64\n",
            " 7   Weather           8784 non-null   object \n",
            "dtypes: float64(4), int64(2), object(2)\n",
            "memory usage: 549.1+ KB\n"
          ]
        }
      ]
    },
    {
      "cell_type": "markdown",
      "source": [
        "Data Analysis:-\n",
        "1.Find all the unique 'wind speed' values in the data\n",
        "\n",
        "\n",
        "\n"
      ],
      "metadata": {
        "id": "lXFVAip4-iVf"
      }
    },
    {
      "cell_type": "code",
      "source": [
        "df1.head(2)\n"
      ],
      "metadata": {
        "colab": {
          "base_uri": "https://localhost:8080/",
          "height": 111
        },
        "id": "Qs2ufvsA_din",
        "outputId": "e9d12287-dc82-4aed-f261-1936526dac71"
      },
      "execution_count": null,
      "outputs": [
        {
          "output_type": "execute_result",
          "data": {
            "text/plain": [
              "       Date/Time  Temp_C  Dew Point Temp_C  Rel Hum_%  Wind Speed_km/h  \\\n",
              "0  1/1/2012 0:00    -1.8              -3.9         86                4   \n",
              "1  1/1/2012 1:00    -1.8              -3.7         87                4   \n",
              "\n",
              "   Visibility_km  Press_kPa Weather  \n",
              "0            8.0     101.24     Fog  \n",
              "1            8.0     101.24     Fog  "
            ],
            "text/html": [
              "\n",
              "  <div id=\"df-7316d821-14a1-417c-94cc-54899fd785b4\">\n",
              "    <div class=\"colab-df-container\">\n",
              "      <div>\n",
              "<style scoped>\n",
              "    .dataframe tbody tr th:only-of-type {\n",
              "        vertical-align: middle;\n",
              "    }\n",
              "\n",
              "    .dataframe tbody tr th {\n",
              "        vertical-align: top;\n",
              "    }\n",
              "\n",
              "    .dataframe thead th {\n",
              "        text-align: right;\n",
              "    }\n",
              "</style>\n",
              "<table border=\"1\" class=\"dataframe\">\n",
              "  <thead>\n",
              "    <tr style=\"text-align: right;\">\n",
              "      <th></th>\n",
              "      <th>Date/Time</th>\n",
              "      <th>Temp_C</th>\n",
              "      <th>Dew Point Temp_C</th>\n",
              "      <th>Rel Hum_%</th>\n",
              "      <th>Wind Speed_km/h</th>\n",
              "      <th>Visibility_km</th>\n",
              "      <th>Press_kPa</th>\n",
              "      <th>Weather</th>\n",
              "    </tr>\n",
              "  </thead>\n",
              "  <tbody>\n",
              "    <tr>\n",
              "      <th>0</th>\n",
              "      <td>1/1/2012 0:00</td>\n",
              "      <td>-1.8</td>\n",
              "      <td>-3.9</td>\n",
              "      <td>86</td>\n",
              "      <td>4</td>\n",
              "      <td>8.0</td>\n",
              "      <td>101.24</td>\n",
              "      <td>Fog</td>\n",
              "    </tr>\n",
              "    <tr>\n",
              "      <th>1</th>\n",
              "      <td>1/1/2012 1:00</td>\n",
              "      <td>-1.8</td>\n",
              "      <td>-3.7</td>\n",
              "      <td>87</td>\n",
              "      <td>4</td>\n",
              "      <td>8.0</td>\n",
              "      <td>101.24</td>\n",
              "      <td>Fog</td>\n",
              "    </tr>\n",
              "  </tbody>\n",
              "</table>\n",
              "</div>\n",
              "      <button class=\"colab-df-convert\" onclick=\"convertToInteractive('df-7316d821-14a1-417c-94cc-54899fd785b4')\"\n",
              "              title=\"Convert this dataframe to an interactive table.\"\n",
              "              style=\"display:none;\">\n",
              "        \n",
              "  <svg xmlns=\"http://www.w3.org/2000/svg\" height=\"24px\"viewBox=\"0 0 24 24\"\n",
              "       width=\"24px\">\n",
              "    <path d=\"M0 0h24v24H0V0z\" fill=\"none\"/>\n",
              "    <path d=\"M18.56 5.44l.94 2.06.94-2.06 2.06-.94-2.06-.94-.94-2.06-.94 2.06-2.06.94zm-11 1L8.5 8.5l.94-2.06 2.06-.94-2.06-.94L8.5 2.5l-.94 2.06-2.06.94zm10 10l.94 2.06.94-2.06 2.06-.94-2.06-.94-.94-2.06-.94 2.06-2.06.94z\"/><path d=\"M17.41 7.96l-1.37-1.37c-.4-.4-.92-.59-1.43-.59-.52 0-1.04.2-1.43.59L10.3 9.45l-7.72 7.72c-.78.78-.78 2.05 0 2.83L4 21.41c.39.39.9.59 1.41.59.51 0 1.02-.2 1.41-.59l7.78-7.78 2.81-2.81c.8-.78.8-2.07 0-2.86zM5.41 20L4 18.59l7.72-7.72 1.47 1.35L5.41 20z\"/>\n",
              "  </svg>\n",
              "      </button>\n",
              "      \n",
              "  <style>\n",
              "    .colab-df-container {\n",
              "      display:flex;\n",
              "      flex-wrap:wrap;\n",
              "      gap: 12px;\n",
              "    }\n",
              "\n",
              "    .colab-df-convert {\n",
              "      background-color: #E8F0FE;\n",
              "      border: none;\n",
              "      border-radius: 50%;\n",
              "      cursor: pointer;\n",
              "      display: none;\n",
              "      fill: #1967D2;\n",
              "      height: 32px;\n",
              "      padding: 0 0 0 0;\n",
              "      width: 32px;\n",
              "    }\n",
              "\n",
              "    .colab-df-convert:hover {\n",
              "      background-color: #E2EBFA;\n",
              "      box-shadow: 0px 1px 2px rgba(60, 64, 67, 0.3), 0px 1px 3px 1px rgba(60, 64, 67, 0.15);\n",
              "      fill: #174EA6;\n",
              "    }\n",
              "\n",
              "    [theme=dark] .colab-df-convert {\n",
              "      background-color: #3B4455;\n",
              "      fill: #D2E3FC;\n",
              "    }\n",
              "\n",
              "    [theme=dark] .colab-df-convert:hover {\n",
              "      background-color: #434B5C;\n",
              "      box-shadow: 0px 1px 3px 1px rgba(0, 0, 0, 0.15);\n",
              "      filter: drop-shadow(0px 1px 2px rgba(0, 0, 0, 0.3));\n",
              "      fill: #FFFFFF;\n",
              "    }\n",
              "  </style>\n",
              "\n",
              "      <script>\n",
              "        const buttonEl =\n",
              "          document.querySelector('#df-7316d821-14a1-417c-94cc-54899fd785b4 button.colab-df-convert');\n",
              "        buttonEl.style.display =\n",
              "          google.colab.kernel.accessAllowed ? 'block' : 'none';\n",
              "\n",
              "        async function convertToInteractive(key) {\n",
              "          const element = document.querySelector('#df-7316d821-14a1-417c-94cc-54899fd785b4');\n",
              "          const dataTable =\n",
              "            await google.colab.kernel.invokeFunction('convertToInteractive',\n",
              "                                                     [key], {});\n",
              "          if (!dataTable) return;\n",
              "\n",
              "          const docLinkHtml = 'Like what you see? Visit the ' +\n",
              "            '<a target=\"_blank\" href=https://colab.research.google.com/notebooks/data_table.ipynb>data table notebook</a>'\n",
              "            + ' to learn more about interactive tables.';\n",
              "          element.innerHTML = '';\n",
              "          dataTable['output_type'] = 'display_data';\n",
              "          await google.colab.output.renderOutput(dataTable, element);\n",
              "          const docLink = document.createElement('div');\n",
              "          docLink.innerHTML = docLinkHtml;\n",
              "          element.appendChild(docLink);\n",
              "        }\n",
              "      </script>\n",
              "    </div>\n",
              "  </div>\n",
              "  "
            ]
          },
          "metadata": {},
          "execution_count": 36
        }
      ]
    },
    {
      "cell_type": "code",
      "source": [
        "df1.nunique()"
      ],
      "metadata": {
        "colab": {
          "base_uri": "https://localhost:8080/"
        },
        "id": "zwyNgXIY_0QQ",
        "outputId": "47bbc2fb-d2d0-44d2-a903-9e3ed97bdf1e"
      },
      "execution_count": null,
      "outputs": [
        {
          "output_type": "execute_result",
          "data": {
            "text/plain": [
              "Date/Time           8784\n",
              "Temp_C               533\n",
              "Dew Point Temp_C     489\n",
              "Rel Hum_%             83\n",
              "Wind Speed_km/h       34\n",
              "Visibility_km         24\n",
              "Press_kPa            518\n",
              "Weather               50\n",
              "dtype: int64"
            ]
          },
          "metadata": {},
          "execution_count": 37
        }
      ]
    },
    {
      "cell_type": "code",
      "source": [
        "df1['Wind Speed_km/h'].nunique()"
      ],
      "metadata": {
        "colab": {
          "base_uri": "https://localhost:8080/"
        },
        "id": "bkcGG4Yz_75x",
        "outputId": "c46fc01d-01a3-4b64-930e-8f7101b4bfe1"
      },
      "execution_count": null,
      "outputs": [
        {
          "output_type": "execute_result",
          "data": {
            "text/plain": [
              "34"
            ]
          },
          "metadata": {},
          "execution_count": 33
        }
      ]
    },
    {
      "cell_type": "code",
      "source": [
        "df1['Wind Speed_km/h'].unique()"
      ],
      "metadata": {
        "colab": {
          "base_uri": "https://localhost:8080/"
        },
        "id": "rDzaiNsXALBZ",
        "outputId": "7c0f3325-0275-4cc4-8bb0-3e1ee9f04899"
      },
      "execution_count": null,
      "outputs": [
        {
          "output_type": "execute_result",
          "data": {
            "text/plain": [
              "array([ 4,  7,  6,  9, 15, 13, 20, 22, 19, 24, 30, 35, 39, 32, 33, 26, 44,\n",
              "       43, 48, 37, 28, 17, 11,  0, 83, 70, 57, 46, 41, 52, 50, 63, 54,  2])"
            ]
          },
          "metadata": {},
          "execution_count": 34
        }
      ]
    },
    {
      "cell_type": "markdown",
      "source": [
        "2.Find the no of times when the weather is exactly clear"
      ],
      "metadata": {
        "id": "LlCJTqmvARd5"
      }
    },
    {
      "cell_type": "code",
      "source": [
        "df1.Weather.value_counts()"
      ],
      "metadata": {
        "colab": {
          "base_uri": "https://localhost:8080/"
        },
        "id": "AOhpvNxtAZuS",
        "outputId": "46d428b9-e262-4745-afeb-7bd8b718cfe5"
      },
      "execution_count": null,
      "outputs": [
        {
          "output_type": "execute_result",
          "data": {
            "text/plain": [
              "Mainly Clear                               2106\n",
              "Mostly Cloudy                              2069\n",
              "Cloudy                                     1728\n",
              "Clear                                      1326\n",
              "Snow                                        390\n",
              "Rain                                        306\n",
              "Rain Showers                                188\n",
              "Fog                                         150\n",
              "Rain,Fog                                    116\n",
              "Drizzle,Fog                                  80\n",
              "Snow Showers                                 60\n",
              "Drizzle                                      41\n",
              "Snow,Fog                                     37\n",
              "Snow,Blowing Snow                            19\n",
              "Rain,Snow                                    18\n",
              "Thunderstorms,Rain Showers                   16\n",
              "Haze                                         16\n",
              "Drizzle,Snow,Fog                             15\n",
              "Freezing Rain                                14\n",
              "Freezing Drizzle,Snow                        11\n",
              "Freezing Drizzle                              7\n",
              "Snow,Ice Pellets                              6\n",
              "Freezing Drizzle,Fog                          6\n",
              "Snow,Haze                                     5\n",
              "Freezing Fog                                  4\n",
              "Snow Showers,Fog                              4\n",
              "Moderate Snow                                 4\n",
              "Rain,Snow,Ice Pellets                         4\n",
              "Freezing Rain,Fog                             4\n",
              "Freezing Drizzle,Haze                         3\n",
              "Rain,Haze                                     3\n",
              "Thunderstorms,Rain                            3\n",
              "Thunderstorms,Rain Showers,Fog                3\n",
              "Freezing Rain,Haze                            2\n",
              "Drizzle,Snow                                  2\n",
              "Rain Showers,Snow Showers                     2\n",
              "Thunderstorms                                 2\n",
              "Moderate Snow,Blowing Snow                    2\n",
              "Rain Showers,Fog                              1\n",
              "Thunderstorms,Moderate Rain Showers,Fog       1\n",
              "Snow Pellets                                  1\n",
              "Rain,Snow,Fog                                 1\n",
              "Moderate Rain,Fog                             1\n",
              "Freezing Rain,Ice Pellets,Fog                 1\n",
              "Drizzle,Ice Pellets,Fog                       1\n",
              "Thunderstorms,Rain,Fog                        1\n",
              "Rain,Ice Pellets                              1\n",
              "Rain,Snow Grains                              1\n",
              "Thunderstorms,Heavy Rain Showers              1\n",
              "Freezing Rain,Snow Grains                     1\n",
              "Name: Weather, dtype: int64"
            ]
          },
          "metadata": {},
          "execution_count": 38
        }
      ]
    },
    {
      "cell_type": "code",
      "source": [
        "df1[df1.Weather=='Clear']"
      ],
      "metadata": {
        "colab": {
          "base_uri": "https://localhost:8080/",
          "height": 419
        },
        "id": "WyLylsTpAjT_",
        "outputId": "1d9405f6-c5e4-4c68-9085-3991ed9ab1a8"
      },
      "execution_count": null,
      "outputs": [
        {
          "output_type": "execute_result",
          "data": {
            "text/plain": [
              "             Date/Time  Temp_C  Dew Point Temp_C  Rel Hum_%  Wind Speed_km/h  \\\n",
              "67      1/3/2012 19:00   -16.9             -24.8         50               24   \n",
              "114     1/5/2012 18:00    -7.1             -14.4         56               11   \n",
              "115     1/5/2012 19:00    -9.2             -15.4         61                7   \n",
              "116     1/5/2012 20:00    -9.8             -15.7         62                9   \n",
              "117     1/5/2012 21:00    -9.0             -14.8         63               13   \n",
              "...                ...     ...               ...        ...              ...   \n",
              "8646   12/26/2012 6:00   -13.4             -14.8         89                4   \n",
              "8698  12/28/2012 10:00    -6.1              -8.6         82               19   \n",
              "8713   12/29/2012 1:00   -11.9             -13.6         87               11   \n",
              "8714   12/29/2012 2:00   -11.8             -13.1         90               13   \n",
              "8756  12/30/2012 20:00   -13.8             -16.5         80               24   \n",
              "\n",
              "      Visibility_km  Press_kPa Weather  \n",
              "67             25.0     101.74   Clear  \n",
              "114            25.0     100.71   Clear  \n",
              "115            25.0     100.80   Clear  \n",
              "116            25.0     100.83   Clear  \n",
              "117            25.0     100.83   Clear  \n",
              "...             ...        ...     ...  \n",
              "8646           25.0     102.47   Clear  \n",
              "8698           24.1     101.27   Clear  \n",
              "8713           25.0     101.31   Clear  \n",
              "8714           25.0     101.33   Clear  \n",
              "8756           25.0     101.52   Clear  \n",
              "\n",
              "[1326 rows x 8 columns]"
            ],
            "text/html": [
              "\n",
              "  <div id=\"df-65bc48e3-c0f6-404f-90e6-1a7afbd42d38\">\n",
              "    <div class=\"colab-df-container\">\n",
              "      <div>\n",
              "<style scoped>\n",
              "    .dataframe tbody tr th:only-of-type {\n",
              "        vertical-align: middle;\n",
              "    }\n",
              "\n",
              "    .dataframe tbody tr th {\n",
              "        vertical-align: top;\n",
              "    }\n",
              "\n",
              "    .dataframe thead th {\n",
              "        text-align: right;\n",
              "    }\n",
              "</style>\n",
              "<table border=\"1\" class=\"dataframe\">\n",
              "  <thead>\n",
              "    <tr style=\"text-align: right;\">\n",
              "      <th></th>\n",
              "      <th>Date/Time</th>\n",
              "      <th>Temp_C</th>\n",
              "      <th>Dew Point Temp_C</th>\n",
              "      <th>Rel Hum_%</th>\n",
              "      <th>Wind Speed_km/h</th>\n",
              "      <th>Visibility_km</th>\n",
              "      <th>Press_kPa</th>\n",
              "      <th>Weather</th>\n",
              "    </tr>\n",
              "  </thead>\n",
              "  <tbody>\n",
              "    <tr>\n",
              "      <th>67</th>\n",
              "      <td>1/3/2012 19:00</td>\n",
              "      <td>-16.9</td>\n",
              "      <td>-24.8</td>\n",
              "      <td>50</td>\n",
              "      <td>24</td>\n",
              "      <td>25.0</td>\n",
              "      <td>101.74</td>\n",
              "      <td>Clear</td>\n",
              "    </tr>\n",
              "    <tr>\n",
              "      <th>114</th>\n",
              "      <td>1/5/2012 18:00</td>\n",
              "      <td>-7.1</td>\n",
              "      <td>-14.4</td>\n",
              "      <td>56</td>\n",
              "      <td>11</td>\n",
              "      <td>25.0</td>\n",
              "      <td>100.71</td>\n",
              "      <td>Clear</td>\n",
              "    </tr>\n",
              "    <tr>\n",
              "      <th>115</th>\n",
              "      <td>1/5/2012 19:00</td>\n",
              "      <td>-9.2</td>\n",
              "      <td>-15.4</td>\n",
              "      <td>61</td>\n",
              "      <td>7</td>\n",
              "      <td>25.0</td>\n",
              "      <td>100.80</td>\n",
              "      <td>Clear</td>\n",
              "    </tr>\n",
              "    <tr>\n",
              "      <th>116</th>\n",
              "      <td>1/5/2012 20:00</td>\n",
              "      <td>-9.8</td>\n",
              "      <td>-15.7</td>\n",
              "      <td>62</td>\n",
              "      <td>9</td>\n",
              "      <td>25.0</td>\n",
              "      <td>100.83</td>\n",
              "      <td>Clear</td>\n",
              "    </tr>\n",
              "    <tr>\n",
              "      <th>117</th>\n",
              "      <td>1/5/2012 21:00</td>\n",
              "      <td>-9.0</td>\n",
              "      <td>-14.8</td>\n",
              "      <td>63</td>\n",
              "      <td>13</td>\n",
              "      <td>25.0</td>\n",
              "      <td>100.83</td>\n",
              "      <td>Clear</td>\n",
              "    </tr>\n",
              "    <tr>\n",
              "      <th>...</th>\n",
              "      <td>...</td>\n",
              "      <td>...</td>\n",
              "      <td>...</td>\n",
              "      <td>...</td>\n",
              "      <td>...</td>\n",
              "      <td>...</td>\n",
              "      <td>...</td>\n",
              "      <td>...</td>\n",
              "    </tr>\n",
              "    <tr>\n",
              "      <th>8646</th>\n",
              "      <td>12/26/2012 6:00</td>\n",
              "      <td>-13.4</td>\n",
              "      <td>-14.8</td>\n",
              "      <td>89</td>\n",
              "      <td>4</td>\n",
              "      <td>25.0</td>\n",
              "      <td>102.47</td>\n",
              "      <td>Clear</td>\n",
              "    </tr>\n",
              "    <tr>\n",
              "      <th>8698</th>\n",
              "      <td>12/28/2012 10:00</td>\n",
              "      <td>-6.1</td>\n",
              "      <td>-8.6</td>\n",
              "      <td>82</td>\n",
              "      <td>19</td>\n",
              "      <td>24.1</td>\n",
              "      <td>101.27</td>\n",
              "      <td>Clear</td>\n",
              "    </tr>\n",
              "    <tr>\n",
              "      <th>8713</th>\n",
              "      <td>12/29/2012 1:00</td>\n",
              "      <td>-11.9</td>\n",
              "      <td>-13.6</td>\n",
              "      <td>87</td>\n",
              "      <td>11</td>\n",
              "      <td>25.0</td>\n",
              "      <td>101.31</td>\n",
              "      <td>Clear</td>\n",
              "    </tr>\n",
              "    <tr>\n",
              "      <th>8714</th>\n",
              "      <td>12/29/2012 2:00</td>\n",
              "      <td>-11.8</td>\n",
              "      <td>-13.1</td>\n",
              "      <td>90</td>\n",
              "      <td>13</td>\n",
              "      <td>25.0</td>\n",
              "      <td>101.33</td>\n",
              "      <td>Clear</td>\n",
              "    </tr>\n",
              "    <tr>\n",
              "      <th>8756</th>\n",
              "      <td>12/30/2012 20:00</td>\n",
              "      <td>-13.8</td>\n",
              "      <td>-16.5</td>\n",
              "      <td>80</td>\n",
              "      <td>24</td>\n",
              "      <td>25.0</td>\n",
              "      <td>101.52</td>\n",
              "      <td>Clear</td>\n",
              "    </tr>\n",
              "  </tbody>\n",
              "</table>\n",
              "<p>1326 rows × 8 columns</p>\n",
              "</div>\n",
              "      <button class=\"colab-df-convert\" onclick=\"convertToInteractive('df-65bc48e3-c0f6-404f-90e6-1a7afbd42d38')\"\n",
              "              title=\"Convert this dataframe to an interactive table.\"\n",
              "              style=\"display:none;\">\n",
              "        \n",
              "  <svg xmlns=\"http://www.w3.org/2000/svg\" height=\"24px\"viewBox=\"0 0 24 24\"\n",
              "       width=\"24px\">\n",
              "    <path d=\"M0 0h24v24H0V0z\" fill=\"none\"/>\n",
              "    <path d=\"M18.56 5.44l.94 2.06.94-2.06 2.06-.94-2.06-.94-.94-2.06-.94 2.06-2.06.94zm-11 1L8.5 8.5l.94-2.06 2.06-.94-2.06-.94L8.5 2.5l-.94 2.06-2.06.94zm10 10l.94 2.06.94-2.06 2.06-.94-2.06-.94-.94-2.06-.94 2.06-2.06.94z\"/><path d=\"M17.41 7.96l-1.37-1.37c-.4-.4-.92-.59-1.43-.59-.52 0-1.04.2-1.43.59L10.3 9.45l-7.72 7.72c-.78.78-.78 2.05 0 2.83L4 21.41c.39.39.9.59 1.41.59.51 0 1.02-.2 1.41-.59l7.78-7.78 2.81-2.81c.8-.78.8-2.07 0-2.86zM5.41 20L4 18.59l7.72-7.72 1.47 1.35L5.41 20z\"/>\n",
              "  </svg>\n",
              "      </button>\n",
              "      \n",
              "  <style>\n",
              "    .colab-df-container {\n",
              "      display:flex;\n",
              "      flex-wrap:wrap;\n",
              "      gap: 12px;\n",
              "    }\n",
              "\n",
              "    .colab-df-convert {\n",
              "      background-color: #E8F0FE;\n",
              "      border: none;\n",
              "      border-radius: 50%;\n",
              "      cursor: pointer;\n",
              "      display: none;\n",
              "      fill: #1967D2;\n",
              "      height: 32px;\n",
              "      padding: 0 0 0 0;\n",
              "      width: 32px;\n",
              "    }\n",
              "\n",
              "    .colab-df-convert:hover {\n",
              "      background-color: #E2EBFA;\n",
              "      box-shadow: 0px 1px 2px rgba(60, 64, 67, 0.3), 0px 1px 3px 1px rgba(60, 64, 67, 0.15);\n",
              "      fill: #174EA6;\n",
              "    }\n",
              "\n",
              "    [theme=dark] .colab-df-convert {\n",
              "      background-color: #3B4455;\n",
              "      fill: #D2E3FC;\n",
              "    }\n",
              "\n",
              "    [theme=dark] .colab-df-convert:hover {\n",
              "      background-color: #434B5C;\n",
              "      box-shadow: 0px 1px 3px 1px rgba(0, 0, 0, 0.15);\n",
              "      filter: drop-shadow(0px 1px 2px rgba(0, 0, 0, 0.3));\n",
              "      fill: #FFFFFF;\n",
              "    }\n",
              "  </style>\n",
              "\n",
              "      <script>\n",
              "        const buttonEl =\n",
              "          document.querySelector('#df-65bc48e3-c0f6-404f-90e6-1a7afbd42d38 button.colab-df-convert');\n",
              "        buttonEl.style.display =\n",
              "          google.colab.kernel.accessAllowed ? 'block' : 'none';\n",
              "\n",
              "        async function convertToInteractive(key) {\n",
              "          const element = document.querySelector('#df-65bc48e3-c0f6-404f-90e6-1a7afbd42d38');\n",
              "          const dataTable =\n",
              "            await google.colab.kernel.invokeFunction('convertToInteractive',\n",
              "                                                     [key], {});\n",
              "          if (!dataTable) return;\n",
              "\n",
              "          const docLinkHtml = 'Like what you see? Visit the ' +\n",
              "            '<a target=\"_blank\" href=https://colab.research.google.com/notebooks/data_table.ipynb>data table notebook</a>'\n",
              "            + ' to learn more about interactive tables.';\n",
              "          element.innerHTML = '';\n",
              "          dataTable['output_type'] = 'display_data';\n",
              "          await google.colab.output.renderOutput(dataTable, element);\n",
              "          const docLink = document.createElement('div');\n",
              "          docLink.innerHTML = docLinkHtml;\n",
              "          element.appendChild(docLink);\n",
              "        }\n",
              "      </script>\n",
              "    </div>\n",
              "  </div>\n",
              "  "
            ]
          },
          "metadata": {},
          "execution_count": 39
        }
      ]
    },
    {
      "cell_type": "code",
      "source": [
        "df1.groupby('Weather').get_group('Clear')"
      ],
      "metadata": {
        "colab": {
          "base_uri": "https://localhost:8080/",
          "height": 419
        },
        "id": "i3iiRZZ4A7Tt",
        "outputId": "2ccc099e-df45-40e8-d54c-161aa186abe4"
      },
      "execution_count": null,
      "outputs": [
        {
          "output_type": "execute_result",
          "data": {
            "text/plain": [
              "             Date/Time  Temp_C  Dew Point Temp_C  Rel Hum_%  Wind Speed_km/h  \\\n",
              "67      1/3/2012 19:00   -16.9             -24.8         50               24   \n",
              "114     1/5/2012 18:00    -7.1             -14.4         56               11   \n",
              "115     1/5/2012 19:00    -9.2             -15.4         61                7   \n",
              "116     1/5/2012 20:00    -9.8             -15.7         62                9   \n",
              "117     1/5/2012 21:00    -9.0             -14.8         63               13   \n",
              "...                ...     ...               ...        ...              ...   \n",
              "8646   12/26/2012 6:00   -13.4             -14.8         89                4   \n",
              "8698  12/28/2012 10:00    -6.1              -8.6         82               19   \n",
              "8713   12/29/2012 1:00   -11.9             -13.6         87               11   \n",
              "8714   12/29/2012 2:00   -11.8             -13.1         90               13   \n",
              "8756  12/30/2012 20:00   -13.8             -16.5         80               24   \n",
              "\n",
              "      Visibility_km  Press_kPa Weather  \n",
              "67             25.0     101.74   Clear  \n",
              "114            25.0     100.71   Clear  \n",
              "115            25.0     100.80   Clear  \n",
              "116            25.0     100.83   Clear  \n",
              "117            25.0     100.83   Clear  \n",
              "...             ...        ...     ...  \n",
              "8646           25.0     102.47   Clear  \n",
              "8698           24.1     101.27   Clear  \n",
              "8713           25.0     101.31   Clear  \n",
              "8714           25.0     101.33   Clear  \n",
              "8756           25.0     101.52   Clear  \n",
              "\n",
              "[1326 rows x 8 columns]"
            ],
            "text/html": [
              "\n",
              "  <div id=\"df-0fd2fdab-f9df-41f1-b149-8a2007b1c481\">\n",
              "    <div class=\"colab-df-container\">\n",
              "      <div>\n",
              "<style scoped>\n",
              "    .dataframe tbody tr th:only-of-type {\n",
              "        vertical-align: middle;\n",
              "    }\n",
              "\n",
              "    .dataframe tbody tr th {\n",
              "        vertical-align: top;\n",
              "    }\n",
              "\n",
              "    .dataframe thead th {\n",
              "        text-align: right;\n",
              "    }\n",
              "</style>\n",
              "<table border=\"1\" class=\"dataframe\">\n",
              "  <thead>\n",
              "    <tr style=\"text-align: right;\">\n",
              "      <th></th>\n",
              "      <th>Date/Time</th>\n",
              "      <th>Temp_C</th>\n",
              "      <th>Dew Point Temp_C</th>\n",
              "      <th>Rel Hum_%</th>\n",
              "      <th>Wind Speed_km/h</th>\n",
              "      <th>Visibility_km</th>\n",
              "      <th>Press_kPa</th>\n",
              "      <th>Weather</th>\n",
              "    </tr>\n",
              "  </thead>\n",
              "  <tbody>\n",
              "    <tr>\n",
              "      <th>67</th>\n",
              "      <td>1/3/2012 19:00</td>\n",
              "      <td>-16.9</td>\n",
              "      <td>-24.8</td>\n",
              "      <td>50</td>\n",
              "      <td>24</td>\n",
              "      <td>25.0</td>\n",
              "      <td>101.74</td>\n",
              "      <td>Clear</td>\n",
              "    </tr>\n",
              "    <tr>\n",
              "      <th>114</th>\n",
              "      <td>1/5/2012 18:00</td>\n",
              "      <td>-7.1</td>\n",
              "      <td>-14.4</td>\n",
              "      <td>56</td>\n",
              "      <td>11</td>\n",
              "      <td>25.0</td>\n",
              "      <td>100.71</td>\n",
              "      <td>Clear</td>\n",
              "    </tr>\n",
              "    <tr>\n",
              "      <th>115</th>\n",
              "      <td>1/5/2012 19:00</td>\n",
              "      <td>-9.2</td>\n",
              "      <td>-15.4</td>\n",
              "      <td>61</td>\n",
              "      <td>7</td>\n",
              "      <td>25.0</td>\n",
              "      <td>100.80</td>\n",
              "      <td>Clear</td>\n",
              "    </tr>\n",
              "    <tr>\n",
              "      <th>116</th>\n",
              "      <td>1/5/2012 20:00</td>\n",
              "      <td>-9.8</td>\n",
              "      <td>-15.7</td>\n",
              "      <td>62</td>\n",
              "      <td>9</td>\n",
              "      <td>25.0</td>\n",
              "      <td>100.83</td>\n",
              "      <td>Clear</td>\n",
              "    </tr>\n",
              "    <tr>\n",
              "      <th>117</th>\n",
              "      <td>1/5/2012 21:00</td>\n",
              "      <td>-9.0</td>\n",
              "      <td>-14.8</td>\n",
              "      <td>63</td>\n",
              "      <td>13</td>\n",
              "      <td>25.0</td>\n",
              "      <td>100.83</td>\n",
              "      <td>Clear</td>\n",
              "    </tr>\n",
              "    <tr>\n",
              "      <th>...</th>\n",
              "      <td>...</td>\n",
              "      <td>...</td>\n",
              "      <td>...</td>\n",
              "      <td>...</td>\n",
              "      <td>...</td>\n",
              "      <td>...</td>\n",
              "      <td>...</td>\n",
              "      <td>...</td>\n",
              "    </tr>\n",
              "    <tr>\n",
              "      <th>8646</th>\n",
              "      <td>12/26/2012 6:00</td>\n",
              "      <td>-13.4</td>\n",
              "      <td>-14.8</td>\n",
              "      <td>89</td>\n",
              "      <td>4</td>\n",
              "      <td>25.0</td>\n",
              "      <td>102.47</td>\n",
              "      <td>Clear</td>\n",
              "    </tr>\n",
              "    <tr>\n",
              "      <th>8698</th>\n",
              "      <td>12/28/2012 10:00</td>\n",
              "      <td>-6.1</td>\n",
              "      <td>-8.6</td>\n",
              "      <td>82</td>\n",
              "      <td>19</td>\n",
              "      <td>24.1</td>\n",
              "      <td>101.27</td>\n",
              "      <td>Clear</td>\n",
              "    </tr>\n",
              "    <tr>\n",
              "      <th>8713</th>\n",
              "      <td>12/29/2012 1:00</td>\n",
              "      <td>-11.9</td>\n",
              "      <td>-13.6</td>\n",
              "      <td>87</td>\n",
              "      <td>11</td>\n",
              "      <td>25.0</td>\n",
              "      <td>101.31</td>\n",
              "      <td>Clear</td>\n",
              "    </tr>\n",
              "    <tr>\n",
              "      <th>8714</th>\n",
              "      <td>12/29/2012 2:00</td>\n",
              "      <td>-11.8</td>\n",
              "      <td>-13.1</td>\n",
              "      <td>90</td>\n",
              "      <td>13</td>\n",
              "      <td>25.0</td>\n",
              "      <td>101.33</td>\n",
              "      <td>Clear</td>\n",
              "    </tr>\n",
              "    <tr>\n",
              "      <th>8756</th>\n",
              "      <td>12/30/2012 20:00</td>\n",
              "      <td>-13.8</td>\n",
              "      <td>-16.5</td>\n",
              "      <td>80</td>\n",
              "      <td>24</td>\n",
              "      <td>25.0</td>\n",
              "      <td>101.52</td>\n",
              "      <td>Clear</td>\n",
              "    </tr>\n",
              "  </tbody>\n",
              "</table>\n",
              "<p>1326 rows × 8 columns</p>\n",
              "</div>\n",
              "      <button class=\"colab-df-convert\" onclick=\"convertToInteractive('df-0fd2fdab-f9df-41f1-b149-8a2007b1c481')\"\n",
              "              title=\"Convert this dataframe to an interactive table.\"\n",
              "              style=\"display:none;\">\n",
              "        \n",
              "  <svg xmlns=\"http://www.w3.org/2000/svg\" height=\"24px\"viewBox=\"0 0 24 24\"\n",
              "       width=\"24px\">\n",
              "    <path d=\"M0 0h24v24H0V0z\" fill=\"none\"/>\n",
              "    <path d=\"M18.56 5.44l.94 2.06.94-2.06 2.06-.94-2.06-.94-.94-2.06-.94 2.06-2.06.94zm-11 1L8.5 8.5l.94-2.06 2.06-.94-2.06-.94L8.5 2.5l-.94 2.06-2.06.94zm10 10l.94 2.06.94-2.06 2.06-.94-2.06-.94-.94-2.06-.94 2.06-2.06.94z\"/><path d=\"M17.41 7.96l-1.37-1.37c-.4-.4-.92-.59-1.43-.59-.52 0-1.04.2-1.43.59L10.3 9.45l-7.72 7.72c-.78.78-.78 2.05 0 2.83L4 21.41c.39.39.9.59 1.41.59.51 0 1.02-.2 1.41-.59l7.78-7.78 2.81-2.81c.8-.78.8-2.07 0-2.86zM5.41 20L4 18.59l7.72-7.72 1.47 1.35L5.41 20z\"/>\n",
              "  </svg>\n",
              "      </button>\n",
              "      \n",
              "  <style>\n",
              "    .colab-df-container {\n",
              "      display:flex;\n",
              "      flex-wrap:wrap;\n",
              "      gap: 12px;\n",
              "    }\n",
              "\n",
              "    .colab-df-convert {\n",
              "      background-color: #E8F0FE;\n",
              "      border: none;\n",
              "      border-radius: 50%;\n",
              "      cursor: pointer;\n",
              "      display: none;\n",
              "      fill: #1967D2;\n",
              "      height: 32px;\n",
              "      padding: 0 0 0 0;\n",
              "      width: 32px;\n",
              "    }\n",
              "\n",
              "    .colab-df-convert:hover {\n",
              "      background-color: #E2EBFA;\n",
              "      box-shadow: 0px 1px 2px rgba(60, 64, 67, 0.3), 0px 1px 3px 1px rgba(60, 64, 67, 0.15);\n",
              "      fill: #174EA6;\n",
              "    }\n",
              "\n",
              "    [theme=dark] .colab-df-convert {\n",
              "      background-color: #3B4455;\n",
              "      fill: #D2E3FC;\n",
              "    }\n",
              "\n",
              "    [theme=dark] .colab-df-convert:hover {\n",
              "      background-color: #434B5C;\n",
              "      box-shadow: 0px 1px 3px 1px rgba(0, 0, 0, 0.15);\n",
              "      filter: drop-shadow(0px 1px 2px rgba(0, 0, 0, 0.3));\n",
              "      fill: #FFFFFF;\n",
              "    }\n",
              "  </style>\n",
              "\n",
              "      <script>\n",
              "        const buttonEl =\n",
              "          document.querySelector('#df-0fd2fdab-f9df-41f1-b149-8a2007b1c481 button.colab-df-convert');\n",
              "        buttonEl.style.display =\n",
              "          google.colab.kernel.accessAllowed ? 'block' : 'none';\n",
              "\n",
              "        async function convertToInteractive(key) {\n",
              "          const element = document.querySelector('#df-0fd2fdab-f9df-41f1-b149-8a2007b1c481');\n",
              "          const dataTable =\n",
              "            await google.colab.kernel.invokeFunction('convertToInteractive',\n",
              "                                                     [key], {});\n",
              "          if (!dataTable) return;\n",
              "\n",
              "          const docLinkHtml = 'Like what you see? Visit the ' +\n",
              "            '<a target=\"_blank\" href=https://colab.research.google.com/notebooks/data_table.ipynb>data table notebook</a>'\n",
              "            + ' to learn more about interactive tables.';\n",
              "          element.innerHTML = '';\n",
              "          dataTable['output_type'] = 'display_data';\n",
              "          await google.colab.output.renderOutput(dataTable, element);\n",
              "          const docLink = document.createElement('div');\n",
              "          docLink.innerHTML = docLinkHtml;\n",
              "          element.appendChild(docLink);\n",
              "        }\n",
              "      </script>\n",
              "    </div>\n",
              "  </div>\n",
              "  "
            ]
          },
          "metadata": {},
          "execution_count": 40
        }
      ]
    },
    {
      "cell_type": "markdown",
      "source": [
        "3.find out all the null values in the data."
      ],
      "metadata": {
        "id": "Vcjl_HJfBaWZ"
      }
    },
    {
      "cell_type": "code",
      "source": [
        "df1.isnull().sum()"
      ],
      "metadata": {
        "colab": {
          "base_uri": "https://localhost:8080/"
        },
        "id": "IO1OtotkBdoT",
        "outputId": "694cc100-71e1-4232-cf6e-f031ef8ab229"
      },
      "execution_count": null,
      "outputs": [
        {
          "output_type": "execute_result",
          "data": {
            "text/plain": [
              "Date/Time           0\n",
              "Temp_C              0\n",
              "Dew Point Temp_C    0\n",
              "Rel Hum_%           0\n",
              "Wind Speed_km/h     0\n",
              "Visibility_km       0\n",
              "Press_kPa           0\n",
              "Weather             0\n",
              "dtype: int64"
            ]
          },
          "metadata": {},
          "execution_count": 41
        }
      ]
    },
    {
      "cell_type": "code",
      "source": [
        "df1.notnull().sum()"
      ],
      "metadata": {
        "colab": {
          "base_uri": "https://localhost:8080/"
        },
        "id": "WQCZab3UBoMm",
        "outputId": "379c3643-581b-4c48-914b-bd9153c69916"
      },
      "execution_count": null,
      "outputs": [
        {
          "output_type": "execute_result",
          "data": {
            "text/plain": [
              "Date/Time           8784\n",
              "Temp_C              8784\n",
              "Dew Point Temp_C    8784\n",
              "Rel Hum_%           8784\n",
              "Wind Speed_km/h     8784\n",
              "Visibility_km       8784\n",
              "Press_kPa           8784\n",
              "Weather             8784\n",
              "dtype: int64"
            ]
          },
          "metadata": {},
          "execution_count": 42
        }
      ]
    },
    {
      "cell_type": "markdown",
      "source": [
        "4.Finding the mean visibility\n"
      ],
      "metadata": {
        "id": "6HCR2HoOB45t"
      }
    },
    {
      "cell_type": "code",
      "source": [
        "df1.Visibility_km.mean()"
      ],
      "metadata": {
        "colab": {
          "base_uri": "https://localhost:8080/"
        },
        "id": "Sv0xHkAwCEDj",
        "outputId": "c9a814ea-260c-4cde-95b5-67e355fd7403"
      },
      "execution_count": null,
      "outputs": [
        {
          "output_type": "execute_result",
          "data": {
            "text/plain": [
              "27.664446721311478"
            ]
          },
          "metadata": {},
          "execution_count": 43
        }
      ]
    },
    {
      "cell_type": "markdown",
      "source": [
        "5.What is standard deviation of Pressure in this data"
      ],
      "metadata": {
        "id": "gIqr--pwCUPf"
      }
    },
    {
      "cell_type": "code",
      "source": [
        "df1.Press_kPa.std()"
      ],
      "metadata": {
        "colab": {
          "base_uri": "https://localhost:8080/"
        },
        "id": "cPAYvFiqCcSN",
        "outputId": "6a59462e-2723-4e12-da5d-40880154b914"
      },
      "execution_count": null,
      "outputs": [
        {
          "output_type": "execute_result",
          "data": {
            "text/plain": [
              "0.8440047459486483"
            ]
          },
          "metadata": {},
          "execution_count": 44
        }
      ]
    },
    {
      "cell_type": "markdown",
      "source": [
        "what is variance of Relative Humidity"
      ],
      "metadata": {
        "id": "zy8oWBh4Clzd"
      }
    },
    {
      "cell_type": "code",
      "source": [
        "df1['Rel Hum_%'].var()"
      ],
      "metadata": {
        "colab": {
          "base_uri": "https://localhost:8080/"
        },
        "id": "IsNkflYRCtm9",
        "outputId": "2103e275-1a7a-4fbb-8317-6755261f173b"
      },
      "execution_count": null,
      "outputs": [
        {
          "output_type": "execute_result",
          "data": {
            "text/plain": [
              "286.24855019850196"
            ]
          },
          "metadata": {},
          "execution_count": 45
        }
      ]
    },
    {
      "cell_type": "markdown",
      "source": [
        "Data Visualization"
      ],
      "metadata": {
        "id": "yXgB9RCQDjKj"
      }
    },
    {
      "cell_type": "code",
      "source": [
        "df2=df1.head(100)\n",
        "plt.bar(df2.Temp_C,df2.Weather,width=0.5,color='r')"
      ],
      "metadata": {
        "id": "LA5Ce5zhb-yV",
        "colab": {
          "base_uri": "https://localhost:8080/",
          "height": 282
        },
        "outputId": "40635612-a196-45f6-d2a5-1ab0d8608bd4"
      },
      "execution_count": null,
      "outputs": [
        {
          "output_type": "execute_result",
          "data": {
            "text/plain": [
              "<BarContainer object of 100 artists>"
            ]
          },
          "metadata": {},
          "execution_count": 56
        },
        {
          "output_type": "display_data",
          "data": {
            "text/plain": [
              "<Figure size 432x288 with 1 Axes>"
            ],
            "image/png": "[encoded data removed]"
          },
          "metadata": {
            "needs_background": "light"
          }
        }
      ]
    },
    {
      "cell_type": "code",
      "source": [
        "df2=df1.head(500)\n",
        "plt.bar(df2.Visibility_km,df2.Weather,width=0.5,color='r')"
      ],
      "metadata": {
        "colab": {
          "base_uri": "https://localhost:8080/",
          "height": 282
        },
        "id": "8CRLPKc6o3y1",
        "outputId": "8df4e21e-84a3-41c9-a6d8-ce3316b62779"
      },
      "execution_count": null,
      "outputs": [
        {
          "output_type": "execute_result",
          "data": {
            "text/plain": [
              "<BarContainer object of 500 artists>"
            ]
          },
          "metadata": {},
          "execution_count": 59
        },
        {
          "output_type": "display_data",
          "data": {
            "text/plain": [
              "<Figure size 432x288 with 1 Axes>"
            ],
            "image/png": "[encoded data removed]"
          },
          "metadata": {
            "needs_background": "light"
          }
        }
      ]
    },
    {
      "cell_type": "code",
      "source": [
        "plt.hist(df2.Press_kPa,color='r')"
      ],
      "metadata": {
        "colab": {
          "base_uri": "https://localhost:8080/",
          "height": 333
        },
        "id": "w_QH8jZ8pXst",
        "outputId": "fc2a7886-d224-4e63-8506-310dd806f1b9"
      },
      "execution_count": null,
      "outputs": [
        {
          "output_type": "execute_result",
          "data": {
            "text/plain": [
              "(array([13., 10., 35., 24., 97., 86., 77., 91., 42., 25.]),\n",
              " array([ 97.99,  98.5 ,  99.01,  99.52, 100.03, 100.54, 101.05, 101.56,\n",
              "        102.07, 102.58, 103.09]),\n",
              " <a list of 10 Patch objects>)"
            ]
          },
          "metadata": {},
          "execution_count": 67
        },
        {
          "output_type": "display_data",
          "data": {
            "text/plain": [
              "<Figure size 432x288 with 1 Axes>"
            ],
            "image/png": "[encoded data removed]"
          },
          "metadata": {
            "needs_background": "light"
          }
        }
      ]
    },
    {
      "cell_type": "code",
      "source": [
        "df2=df1.head(100)\n",
        "plt.plot(df2.Temp_C,df2.Visibility_km)\n",
        "plt.show()"
      ],
      "metadata": {
        "id": "PKdU8NbDs1et",
        "colab": {
          "base_uri": "https://localhost:8080/",
          "height": 265
        },
        "outputId": "ef441210-4987-4ce9-af9a-87fb37aa3db4"
      },
      "execution_count": null,
      "outputs": [
        {
          "output_type": "display_data",
          "data": {
            "text/plain": [
              "<Figure size 432x288 with 1 Axes>"
            ],
            "image/png": "[encoded data removed]"
          },
          "metadata": {
            "needs_background": "light"
          }
        }
      ]
    },
    {
      "cell_type": "code",
      "source": [
        "plt.plot(df2.Temp_C,df2.Press_kPa)"
      ],
      "metadata": {
        "colab": {
          "base_uri": "https://localhost:8080/",
          "height": 284
        },
        "id": "O_6k_di_1SCv",
        "outputId": "c974e770-8df5-4db2-dcb0-773ee5c495d4"
      },
      "execution_count": null,
      "outputs": [
        {
          "output_type": "execute_result",
          "data": {
            "text/plain": [
              "[<matplotlib.lines.Line2D at 0x7f68b198c510>]"
            ]
          },
          "metadata": {},
          "execution_count": 11
        },
        {
          "output_type": "display_data",
          "data": {
            "text/plain": [
              "<Figure size 432x288 with 1 Axes>"
            ],
            "image/png": "[encoded data removed]"
          },
          "metadata": {
            "needs_background": "light"
          }
        }
      ]
    }
  ]
}